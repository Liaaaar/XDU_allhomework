{
 "cells": [
  {
   "cell_type": "code",
   "execution_count": 63,
   "metadata": {
    "collapsed": false
   },
   "outputs": [
    {
     "name": "stdout",
     "output_type": "stream",
     "text": [
      "data6403\r\n"
     ]
    }
   ],
   "source": [
    "# 查看当前挂载的数据集目录\n",
    "!ls /home/aistudio/data\n",
    "#!find . -type f -name LR_data1.txt\n",
    "#!find . -type f -name LR_data2.txt"
   ]
  },
  {
   "cell_type": "markdown",
   "metadata": {
    "collapsed": false
   },
   "source": [
    "# 逻辑回归\n",
    "本次作业的目的是建立一个逻辑回归模型，用于预测一个学生是否应该被大学录取。\n",
    "\n",
    "简单起见，大学通过**两次考试的成绩来确定一个学生是否应该录取**。你有以前数届考生的成绩，可以做为训练集学习逻辑回归模型。每个训练样本包括了考生两次考试的成绩和对应的录取决定。\n",
    "\n",
    "你的任务是建立一个分类模型，根据两次考试的成绩来估计考生被录取的概率。\n",
    "本次实验需要实现的函数\n",
    "- `plot_data` 绘制二维的分类数据。\n",
    "- `sigmoid`函数\n",
    "- `cost_function` 逻辑回归的代价函数\n",
    "- `cost_gradient` 逻辑回归的代价函数的梯度，无正则化\n",
    "- `predict` 逻辑回归的预测函数\n",
    "- `cost_function_reg` 逻辑回归带正则化项的代价函数\n",
    "- `cost_gradient_reg` 逻辑回归的代价函数的梯度，带正则化"
   ]
  },
  {
   "cell_type": "code",
   "execution_count": 64,
   "metadata": {
    "collapsed": false
   },
   "outputs": [],
   "source": [
    "# 导入需要用到的库\n",
    "import numpy as np\n",
    "import scipy.optimize as op\n",
    "import matplotlib.pyplot as plt"
   ]
  },
  {
   "cell_type": "markdown",
   "metadata": {
    "collapsed": false
   },
   "source": [
    "## 数据可视化\n",
    "在实现机器学习算法前，可视化的显示数据以观察其规律通常是有益的。本次作业中，你需要实现 `plot_data` 函数，用于绘制所给数据的散点图。你绘制的图像应如下图所示，两坐标轴分别为两次考试的成绩，正负样本分别使用不同的标记显示。"
   ]
  },
  {
   "cell_type": "code",
   "execution_count": 65,
   "metadata": {
    "collapsed": false
   },
   "outputs": [],
   "source": [
    "def plot_data(X, y):\n",
    "    \"\"\"This function plots the data points X and y into a new figure.\n",
    "    It plots the data points with red + for the positive examples,\n",
    "    and blue o the negative examples. X is assumed to be a Mx2 matrix.\n",
    "    \n",
    "    X: shape:nx2 \n",
    "    y: shape:nx1\n",
    "    \"\"\"\n",
    "\n",
    "    plt.figure()\n",
    "    \n",
    "    # ====================== YOUR CODE HERE ======================\n",
    "    plt.scatter(X[:,0][y==0],X[:,1][y==0],label='Not admitted')\n",
    "    plt.scatter(X[:,0][y==1],X[:,1][y==1],label='Admitted')\n",
    "    # ============================================================\n",
    "\n",
    "    plt.xlabel(\"Exam 1 Score\")\n",
    "    plt.ylabel(\"Exam 2 Score\")\n",
    "    plt.legend(loc='upper right')"
   ]
  },
  {
   "cell_type": "markdown",
   "metadata": {
    "collapsed": false
   },
   "source": [
    "调用 `plot_data`，可视化第一个文件`LR_data1`数据。绘制的图像如下：‘\n",
    "\n",
    "![data1](https://github.com/fredqi/fredqi.github.io/raw/master/teaching/PRML/LR_data1_visual.png)"
   ]
  },
  {
   "cell_type": "code",
   "execution_count": 66,
   "metadata": {
    "collapsed": false
   },
   "outputs": [
    {
     "data": {
      "image/png": "[encoded data removed]",
      "text/plain": [
       "<Figure size 432x288 with 1 Axes>"
      ]
     },
     "metadata": {},
     "output_type": "display_data"
    }
   ],
   "source": [
    "# 加载数据 注意使用 !ls 或 !find 命令确定数据文件所在的目录 dataXXXX 。\n",
    "data = np.loadtxt(\"LR_data1.txt\", delimiter=\",\")\n",
    "X, y = data[:, :2], data[:, 2]\n",
    "\n",
    "# 可视化数据\n",
    "# ====================== YOUR CODE HERE ================\n",
    "plot_data(X,y)\n",
    "# ======================================================\n",
    "plt.show()\n",
    "#print(X)\n",
    "#print(y)"
   ]
  },
  {
   "cell_type": "markdown",
   "metadata": {
    "collapsed": false
   },
   "source": [
    "绘制分类面"
   ]
  },
  {
   "cell_type": "code",
   "execution_count": 67,
   "metadata": {
    "collapsed": false
   },
   "outputs": [],
   "source": [
    "def plot_decision_boundary(theta, X, y):\n",
    "    \"\"\"绘制分类面。\"\"\"\n",
    "    plot_data(X[:, 1:], y)\n",
    "\n",
    "    _, d = X.shape\n",
    "\n",
    "    if d <= 3:\n",
    "        plot_x = np.array([np.min(X[:, 1])-2, np.max(X[:, 1])+2])\n",
    "        plot_y = -1.0 / theta[2]*(theta[1]*plot_x + theta[0])\n",
    "        plt.plot(plot_x, plot_y, 'm-', label=\"Decision Boundary\")\n",
    "\n",
    "        plt.xlim([30, 100])\n",
    "        plt.ylim([30, 100])\n",
    "    else:\n",
    "        n_grid = 50\n",
    "        u = np.linspace(-1, 1.5, n_grid)\n",
    "        v = np.linspace(-1, 1.5, n_grid)\n",
    "\n",
    "        z = np.zeros((n_grid, n_grid))\n",
    "\n",
    "        for i in range(n_grid):\n",
    "            for j in range(n_grid):\n",
    "                uu, vv = np.array([u[i]]), np.array([v[j]])\n",
    "                z[i, j] = np.dot(map_feature(uu, vv), theta)\n",
    "\n",
    "        z = z.T\n",
    "\n",
    "        CS = plt.contour(u, v, z, linewidths=2, levels=[0.0], colors=['m'])\n",
    "        CS.collections[0].set_label('Decision boundary')\n",
    "\n",
    "    plt.legend()"
   ]
  },
  {
   "cell_type": "markdown",
   "metadata": {
    "collapsed": false
   },
   "source": [
    "## 热身练习：Sigmoid函数\n",
    "\n",
    "逻辑回归的假设模型为：\n",
    "$$h_{\\theta}(x) = g(\\theta^{\\mathrm{T}} x)$$\t\n",
    "\n",
    "其中函数 $g(\\cdot)$ 是Sigmoid函数，定义为：\n",
    "$$g(z) = \\frac{1}{1+\\exp(-z)}$$\n",
    "\n",
    "本练习中第一步需要你实现 Sigmoid 函数。在实现该函数后，你需要确认其功能正确。对于输入为矩阵和向量的情况，你实现的函数应当对每一个元素执行Sigmoid 函数。"
   ]
  },
  {
   "cell_type": "code",
   "execution_count": 68,
   "metadata": {
    "collapsed": false
   },
   "outputs": [],
   "source": [
    "def sigmoid(z):\n",
    "    \"\"\"Compute sigmoid function\"\"\"\n",
    "\n",
    "    z = np.asarray(z)\n",
    "    g = np.zeros_like(z)\n",
    "\n",
    "    # ====================== YOUR CODE HERE ======================\n",
    "    g=1/(1+np.exp(-z))\n",
    "    # ============================================================\n",
    "\n",
    "    return g"
   ]
  },
  {
   "cell_type": "code",
   "execution_count": 69,
   "metadata": {
    "collapsed": false
   },
   "outputs": [
    {
     "name": "stdout",
     "output_type": "stream",
     "text": [
      "Value of sigmoid at [-10, -5, 0, 5, 10] are:\n",
      " [4.53978687e-05 6.69285092e-03 5.00000000e-01 9.93307149e-01\n",
      " 9.99954602e-01]\n"
     ]
    }
   ],
   "source": [
    "# 测试 sigmoid 函数\n",
    "z = np.array([-10.0, -5.0, 0.0, 5.0, 10.0])\n",
    "g = sigmoid(z)\n",
    "print(\"Value of sigmoid at [-10, -5, 0, 5, 10] are:\\n\", g)\n",
    "\n",
    "#print(X.shape)\n",
    "#print(y.shape)\n"
   ]
  },
  {
   "cell_type": "markdown",
   "metadata": {
    "collapsed": false
   },
   "source": [
    "## 代价函数与梯度\n",
    "现在你需要实现逻辑回归的代价函数及其梯度。补充完整`cost_function`函数，使其返回正确的代价。补充完整`cost_gradient`函数，使其返回正确的梯度。\n",
    "\n",
    "逻辑回归的代价函数为:\n",
    "$$J(\\theta) = \\frac{1}{m} \\sum_{i=1}^{m} \\Big[ -y^{(i)} \\log \\big( h_{\\theta}(x^{(i)}) \\big) - (1-y^{(i)}) \\log \\big( 1-h_{\\theta}(x^{(i)}) \\big) \\Big]$$\n",
    "\n",
    "对应的梯度向量各分量为\n",
    "$$ \\frac{\\partial J(\\theta)}{\\partial \\theta_{j}} = \\frac{1}{m} \\sum_{i=1}^{m} \\big( h_{\\theta}(x^{(i)}) - y^{(i)} \\big) x_{j}^{(i)}$$"
   ]
  },
  {
   "cell_type": "code",
   "execution_count": 70,
   "metadata": {
    "collapsed": false
   },
   "outputs": [],
   "source": [
    "def cost_function(theta, X, y):\n",
    "    \"\"\"逻辑回归的代价函数，无正则项。\"\"\"\n",
    "    theta=theta.reshape(3,1)\n",
    "    m=len(y)\n",
    "    y=y.reshape((m,1))\n",
    "    J = 0.0\n",
    "    # ====================== YOUR CODE HERE ======================\n",
    "    J=sum(-y*np.log(sigmoid(np.dot(X,theta)))-(1-y)*np.log(1-sigmoid(np.dot(X,theta))))/m\n",
    "    # ============================================================\n",
    "    return J\n",
    "#a=np.ones((3,1))\n",
    "#b=np.ones((100,3))\n",
    "#c=np.ones((100,1))\n",
    "#print(a.shape,b.shape,c.shape)\n",
    "#ans=cost_function(a,b,c)\n",
    "#print(ans)"
   ]
  },
  {
   "cell_type": "code",
   "execution_count": 71,
   "metadata": {
    "collapsed": false
   },
   "outputs": [],
   "source": [
    "def cost_gradient(theta, X, y):\n",
    "    \"\"\"逻辑回归的代价函数的梯度，无正则项。\"\"\"\n",
    "    m = 1.0*len(y)\n",
    "    grad = np.zeros_like(theta)\n",
    "    #print(y.shape)\n",
    "    # ====================== YOUR CODE HERE ======================\n",
    "    grad=np.dot(X.T,sigmoid(np.dot(X,theta))-y)/m\n",
    "    # ============================================================\n",
    "    return grad\n",
    "#print(cost_gradient(a,b,c))\n"
   ]
  },
  {
   "cell_type": "markdown",
   "metadata": {
    "collapsed": false
   },
   "source": [
    "## 预测函数\n",
    "在获得模型参数后，你就可以使用模型预测一个学生能够被大学录取。如果某学生考试一的 成绩为45，考试二的成绩为85，你应该能够得到其录取概率约为0.776。\n",
    "\n",
    "你需要完成 `predict` 函数，该函数输出“1”或“0”。通过计算分类正确的样本百分数， 我们可以得到训练集上的正确率。"
   ]
  },
  {
   "cell_type": "code",
   "execution_count": 72,
   "metadata": {
    "collapsed": false
   },
   "outputs": [],
   "source": [
    "def predict(theta, X):\n",
    "    \"\"\"Predict whether the label is 0 or 1\n",
    "    using learned logistic regression parameters theta.\n",
    "    input： theta：model's parameters\n",
    "            X: input samples\n",
    "    output：0 or 1\n",
    "    \"\"\"\n",
    "    m, _ = X.shape\n",
    "    pred = np.zeros((m, 1), dtype=np.bool)\n",
    "\n",
    "    # ====================== YOUR CODE HERE ======================\n",
    "    #pred=bool(sigmoid(np.dot(X,theta))\n",
    "    pred=(sigmoid(np.dot(X,theta))>0.5)\n",
    "    # ============================================================\n",
    "    return pred\n"
   ]
  },
  {
   "cell_type": "markdown",
   "metadata": {
    "collapsed": false
   },
   "source": [
    "## 使用`scipy.optimize.fmin_cg`学习模型参数\n",
    "\n",
    "在本次作业中，希望你使用 `scipy.optimize.fmin_cg` 函数实现代价函数 $J(\\theta)$ 的优化，得到最佳参数 $\\theta^{*}$ 。\n",
    "\n",
    "使用该优化函数的代码已经在程序中实现，调用方式示例如下：\n",
    "```\n",
    "ret = op.fmin_cg(cost_function,\n",
    "                 theta,\n",
    "                 fprime=cost_gradient,\n",
    "                 args=(X, y),\n",
    "                 maxiter=400,\n",
    "                 full_output=True)\n",
    "theta_opt, cost_min, _, _, _ = ret\n",
    "\n",
    "```\n",
    "其中`cost_function`为代价函数， `theta` 为需要优化的参数初始值， `fprime=cost_gradient` 给出了代价函数的梯度， `args=(X, y)` 给出了需要优化的函数与对应的梯度计算所需要的其他参数， `maxiter=400` 给出了最大迭代次数， `full_output=True` 则指明该函数除了输出优化得到的参数 `theta_opt` 外，还会返回最小的代价函数值 `cost_min` 等内容。\n",
    "\n",
    "对第一组参数，得到的代价约为 0.203 (cost_min)。\n"
   ]
  },
  {
   "cell_type": "code",
   "execution_count": 73,
   "metadata": {
    "collapsed": false
   },
   "outputs": [
    {
     "name": "stdout",
     "output_type": "stream",
     "text": [
      "Cost at initial theta (zeros):  [0.69314718]\n",
      "Gradient at initial theta (zeros): \n",
      " [ -0.1        -12.00921659 -11.26284221]\n",
      "Optimization terminated successfully.\n",
      "         Current function value: 0.203498\n",
      "         Iterations: 43\n",
      "         Function evaluations: 105\n",
      "         Gradient evaluations: 105\n",
      "Cost at theta found by fmin_cg:  0.203497703562987\n",
      "theta_op: \n",
      " [-25.16497607   0.2062607    0.20150122]\n",
      "For a student with scores 45 and 85, we predict an admission probability of:  0.7763218628927196\n",
      "Train Accuracy:  89.0\n"
     ]
    },
    {
     "name": "stderr",
     "output_type": "stream",
     "text": [
      "/opt/conda/envs/python35-paddle120-env/lib/python3.7/site-packages/ipykernel_launcher.py:8: RuntimeWarning: divide by zero encountered in log\n",
      "  \n",
      "/opt/conda/envs/python35-paddle120-env/lib/python3.7/site-packages/ipykernel_launcher.py:8: RuntimeWarning: invalid value encountered in multiply\n",
      "  \n"
     ]
    },
    {
     "data": {
      "image/png": "[encoded data removed]",
      "text/plain": [
       "<Figure size 432x288 with 1 Axes>"
      ]
     },
     "metadata": {},
     "output_type": "display_data"
    }
   ],
   "source": [
    "def logistic_regression():\r\n",
    "    \"\"\"针对第一组数据建立逻辑回归模型。\"\"\"\r\n",
    "\r\n",
    "    # 加载数据\r\n",
    "    data = np.loadtxt(\"LR_data1.txt\", delimiter=\",\")\r\n",
    "    X, y = data[:, :2], data[:, 2]\r\n",
    "\r\n",
    "    # 计算代价与梯度\r\n",
    "    m, _ = X.shape\r\n",
    "    X = np.hstack((np.ones((m, 1)), X))\r\n",
    "\r\n",
    "    # 初始化参数\r\n",
    "    theta_initial = np.zeros_like(X[0])\r\n",
    "    #y=y.reshape(100,1)\r\n",
    "    #theta_initial=theta_initial.reshape(3,1)\r\n",
    "\r\n",
    "    # 计算并打印初始参数对应的代价与梯度\r\n",
    "    cost = cost_function(theta_initial, X, y)\r\n",
    "    grad = cost_gradient(theta_initial, X, y)\r\n",
    "    print(\"Cost at initial theta (zeros): \", cost)\r\n",
    "    print(\"Gradient at initial theta (zeros): \\n\", grad)\r\n",
    "\r\n",
    "    # 使用 scipy.optimize.fmin_cg 优化模型参数\r\n",
    "    args = (X, y)\r\n",
    "    #print(X.shape,y.shape,theta_initial.shape)\r\n",
    "    maxiter = 200\r\n",
    "    # ====================== YOUR CODE HERE ======================\r\n",
    "\r\n",
    "    \r\n",
    "    ret = op.fmin_cg(cost_function,\r\n",
    "                 theta_initial,\r\n",
    "                 fprime=cost_gradient,\r\n",
    "                 args=(X, y),\r\n",
    "                 maxiter=400,\r\n",
    "                 full_output=True)\r\n",
    "\r\n",
    "    # ============================================================\r\n",
    "    theta_opt, cost_min, _, _, _ = ret\r\n",
    "    print(\"Cost at theta found by fmin_cg: \", cost_min)\r\n",
    "    print(\"theta_op: \\n\", theta_opt)\r\n",
    "\r\n",
    "    # 绘制分类面\r\n",
    "    plot_decision_boundary(theta_opt, X, y)\r\n",
    "    plt.show()\r\n",
    "\r\n",
    "    # 预测考试一得45分，考试二得85分的学生的录取概率\r\n",
    "    x_test = np.array([1, 45, 85.0])\r\n",
    "    prob = sigmoid(np.dot(theta_opt, x_test))\r\n",
    "    print('For a student with scores 45 and 85, we predict an admission probability of: ', prob)\r\n",
    "\r\n",
    "    # 计算在训练集上的分类正确率\r\n",
    "    p = predict(theta_opt, X)\r\n",
    "    #print(p)\r\n",
    "    print(\"Train Accuracy: \", np.mean(p == y)*100.)\r\n",
    "\r\n",
    "logistic_regression()"
   ]
  },
  {
   "cell_type": "markdown",
   "metadata": {
    "collapsed": false
   },
   "source": [
    "# 正则化的逻辑回归\n",
    "## 数据可视化\n",
    "调用函数`plot_data`可视化第二组数据 `LR_data2.txt` 。\n",
    "正确的输出如下：\n",
    "\n",
    "![LR_data2](https://github.com/fredqi/fredqi.github.io/raw/master/teaching/PRML/LR_data2_visual.png)"
   ]
  },
  {
   "cell_type": "code",
   "execution_count": 74,
   "metadata": {
    "collapsed": false
   },
   "outputs": [
    {
     "data": {
      "image/png": "[encoded data removed]",
      "text/plain": [
       "<Figure size 432x288 with 1 Axes>"
      ]
     },
     "metadata": {},
     "output_type": "display_data"
    }
   ],
   "source": [
    "# 加载数据\n",
    "data = np.loadtxt(\"LR_data2.txt\", delimiter=\",\")\n",
    "X, y = data[:, :2], data[:, 2]\n",
    "\n",
    "# 可视化数据\n",
    "# ====================== YOUR CODE HERE ================\n",
    "plot_data(X,y)\n",
    "# ======================================================\n",
    "plt.show()"
   ]
  },
  {
   "cell_type": "markdown",
   "metadata": {
    "collapsed": false
   },
   "source": [
    "## 特征变换\n",
    "创建更多的特征是充分挖掘数据中的信息的一种有效手段。在函数 map_feature 中，我们将数据映射为其六阶多项式的所有项。\t\n",
    "\n",
    "![](https://ai-studio-static-online.cdn.bcebos.com/c7b66b3052264cd5b49455655db18e309891b046dbcc4126aac565ec5698c597)"
   ]
  },
  {
   "cell_type": "code",
   "execution_count": 75,
   "metadata": {
    "collapsed": false
   },
   "outputs": [],
   "source": [
    "def map_feature(X1, X2, degree=6):\n",
    "    \"\"\"Feature mapping function to polynomial features.\"\"\"\n",
    "    m = len(X1)\n",
    "    assert len(X1) == len(X2)\n",
    "    n = int((degree+2)*(degree+1)/2)\n",
    "\n",
    "    out = np.zeros((m, n))\n",
    "\n",
    "    idx = 0\n",
    "    for i in range(degree+1):\n",
    "        for j in range(i+1):\n",
    "            # print i-j, j, idx\n",
    "            out[:, idx] = np.power(X1, i-j)*np.power(X2, j)\n",
    "            idx += 1\n",
    "\n",
    "    return out"
   ]
  },
  {
   "cell_type": "markdown",
   "metadata": {
    "collapsed": false
   },
   "source": [
    "## 代价函数与梯度\n",
    "逻辑回归的代价函数为\n",
    "\n",
    "$$ J(\\theta) = \\frac{1}{m} \\sum_{i=1}^{m} \\left [ -y^{(i)} \\log \\left (h_{\\theta}(x^{(i)}) \\right) - (1-y^{(i)}) \\log \\left (\n",
    "1- h_{\\theta}(x^{(i)}) \\right ) \\right ] + \\frac{\\lambda}{2m} \\sum_{j=1}^{n} \\theta_{j}^{2}$$\n",
    "\n",
    "对应的梯度向量各分量为：\n",
    "\n",
    "![gradient](https://ai-studio-static-online.cdn.bcebos.com/c6c0b9e0c80e4596b29f9df0e631998ed62dddda53974daaa3e323f22c42fe00)\n",
    "\n",
    "完成以下函数：\n",
    "- `cost_function_reg()`\n",
    "- `cost_gradient_reg()`"
   ]
  },
  {
   "cell_type": "code",
   "execution_count": 76,
   "metadata": {
    "collapsed": false
   },
   "outputs": [],
   "source": [
    "def cost_function_reg(theta, X, y, lmb):\n",
    "    \"\"\"逻辑回归的代价函数，有正则项。\"\"\"\n",
    "    m = 1.0*len(y)\n",
    "    J = 0\n",
    "    # ====================== YOUR CODE HERE ======================\n",
    "    #y=y.reshape((int(m),1))\n",
    "    J=sum(-y*np.log(sigmoid(np.dot(X,theta)))-(1-y)*np.log(1-sigmoid(np.dot(X,theta))))/m+lmb/(2*m)*sum(theta**2)\n",
    "    # ============================================================\n",
    "\n",
    "    return J\n",
    "\n",
    "\n",
    "def cost_gradient_reg(theta, X, y, lmb):\n",
    "    \"\"\"逻辑回归的代价函数的梯度，有正则项。\"\"\"\n",
    "\n",
    "    m = 1.0*len(y)\n",
    "    #y=y.reshape((int(m),1))\n",
    "    #theta=theta.reshape((len(theta),1))\n",
    "    #print(y.shape,theta.shape)\n",
    "    grad = np.zeros_like(theta)\n",
    "    # ====================== YOUR CODE HERE ======================\n",
    "    grad=np.dot(X.T,sigmoid(np.dot(X,theta))-y)/m+theta/m*lmb\n",
    "    # ============================================================\n",
    "\n",
    "    return grad"
   ]
  },
  {
   "cell_type": "markdown",
   "metadata": {
    "collapsed": false
   },
   "source": [
    "## 模型训练\n",
    "如果将参数$\\theta$ 初始化为全零值，相应的代价函数约为 0.693。可以使用与前述无正则化项类似的方法实现梯度下降，\n",
    "获得优化后的参数 $\\theta^{*}$ 。\n",
    "你可以调用 plot_decision_boundary 函数来查看最终得到的分类面。建议你调整正则化项的系数，分析正则化对分类面的影响!\n",
    "\n",
    "参考输出图像：\n",
    "\n",
    "![](https://github.com/fredqi/fredqi.github.io/raw/master/teaching/PRML/LR_data2_boundary.png)"
   ]
  },
  {
   "cell_type": "code",
   "execution_count": 77,
   "metadata": {
    "collapsed": false
   },
   "outputs": [
    {
     "name": "stdout",
     "output_type": "stream",
     "text": [
      "(118, 28)\n",
      "Cost at initial theta (zeros):  0.6931471805599461\n",
      "Gradient at initial theta (zeros): \n",
      " [8.47457627e-03 1.87880932e-02 7.77711864e-05 5.03446395e-02\n",
      " 1.15013308e-02 3.76648474e-02 1.83559872e-02 7.32393391e-03\n",
      " 8.19244468e-03 2.34764889e-02 3.93486234e-02 2.23923907e-03\n",
      " 1.28600503e-02 3.09593720e-03 3.93028171e-02 1.99707467e-02\n",
      " 4.32983232e-03 3.38643902e-03 5.83822078e-03 4.47629067e-03\n",
      " 3.10079849e-02 3.10312442e-02 1.09740238e-03 6.31570797e-03\n",
      " 4.08503006e-04 7.26504316e-03 1.37646175e-03 3.87936363e-02]\n",
      "Optimization terminated successfully.\n",
      "         Current function value: 0.535160\n",
      "         Iterations: 20\n",
      "         Function evaluations: 59\n",
      "         Gradient evaluations: 59\n",
      "Cost at theta found by fmin_cg:  0.5351602541409637\n",
      "theta_op: \n",
      " [ 1.1422266   0.60133262  1.16704491 -1.87184549 -0.91530674 -1.26956018\n",
      "  0.126668   -0.36878573 -0.34528112 -0.17358168 -1.42399329 -0.04879156\n",
      " -0.60651133 -0.26925627 -1.16308888 -0.24316378 -0.20714934 -0.04338032\n",
      " -0.28025341 -0.28696345 -0.46919527 -1.03640644  0.02904496 -0.29267072\n",
      "  0.01721546 -0.32898817 -0.13797868 -0.9321943 ]\n"
     ]
    },
    {
     "data": {
      "image/png": "[encoded data removed]",
      "text/plain": [
       "<Figure size 432x288 with 1 Axes>"
      ]
     },
     "metadata": {},
     "output_type": "display_data"
    },
    {
     "name": "stdout",
     "output_type": "stream",
     "text": [
      "Train Accuracy:  82.20338983050848\n"
     ]
    }
   ],
   "source": [
    "def logistic_regression_reg(lmb=1.0):\n",
    "    \"\"\"针对第二组数据建立逻辑回归模型。\"\"\"\n",
    "\n",
    "    # 加载数据\n",
    "    data = np.loadtxt(\"LR_data2.txt\", delimiter=\",\")\n",
    "    X, y = data[:, :2], data[:, 2]\n",
    "\n",
    "    # 计算具有正则项的代价与梯度\n",
    "\n",
    "    # 注意map_feature会自动加入一列 1\n",
    "    X = map_feature(X[:, 0], X[:, 1])\n",
    "    print(X.shape)\n",
    "    # 初始化参数\n",
    "    theta_initial = np.zeros_like(X[0, :])\n",
    "\n",
    "    # 计算并打印初始参数对应的代价与梯度\n",
    "    cost = cost_function_reg(theta_initial, X, y, lmb=lmb)\n",
    "    grad = cost_gradient_reg(theta_initial, X, y, lmb=lmb)\n",
    "    print(\"Cost at initial theta (zeros): \", cost)\n",
    "    print(\"Gradient at initial theta (zeros): \\n\", grad)\n",
    "\n",
    "    # 使用 scipy.optimize.fmin_cg 优化模型参数\n",
    "    args = (X, y, lmb)\n",
    "    maxiter = 200\n",
    "    # ====================== YOUR CODE HERE ======================\n",
    "    \n",
    "    #print(X.shape,y.shape,theta_initial.shape)\n",
    "    ret = op.fmin_cg(cost_function_reg,\n",
    "                    theta_initial,\n",
    "                    fprime=cost_gradient_reg,\n",
    "                    args=(X, y,lmb),\n",
    "                    maxiter=maxiter,\n",
    "                    full_output=True)\n",
    "\n",
    "    # ============================================================\n",
    "    theta_opt, cost_min, _, _, _ = ret\n",
    "    print(\"Cost at theta found by fmin_cg: \", cost_min)\n",
    "    print(\"theta_op: \\n\", theta_opt)\n",
    "\n",
    "    # 绘制分类面\n",
    "    plot_decision_boundary(theta_opt, X, y)\n",
    "    plt.title(\"lambda = \" + str(lmb))\n",
    "    plt.show()\n",
    "\n",
    "    # 计算在训练集上的分类正确率\n",
    "    pred = predict(theta_opt, X)\n",
    "    #print(pred)\n",
    "    print(\"Train Accuracy: \", np.mean(pred == y)*100)\n",
    "# 可选：尝试不同正则化系数lmb = 0.0, 1.0, 10.0, 100.0对分类面的影响\n",
    "logistic_regression_reg(lmb=1.0) "
   ]
  }
 ],
 "metadata": {
  "kernelspec": {
   "display_name": "Python 3",
   "language": "python",
   "name": "py35-paddle1.2.0"
  },
  "language_info": {
   "codemirror_mode": {
    "name": "ipython",
    "version": 3
   },
   "file_extension": ".py",
   "mimetype": "text/x-python",
   "name": "python",
   "nbconvert_exporter": "python",
   "pygments_lexer": "ipython3",
   "version": "3.7.4"
  }
 },
 "nbformat": 4,
 "nbformat_minor": 1
}
