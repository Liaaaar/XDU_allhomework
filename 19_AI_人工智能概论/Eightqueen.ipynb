{
 "cells": [
  {
   "cell_type": "code",
   "execution_count": 1,
   "metadata": {},
   "outputs": [
    {
     "data": {
      "text/plain": [
       "'\\nQuestion:N queens problem \\nAuthor:fukaiwen\\nData:2021/10/7\\n'"
      ]
     },
     "execution_count": 1,
     "metadata": {},
     "output_type": "execute_result"
    }
   ],
   "source": [
    "'''\n",
    "Question:N queens problem \n",
    "Author:fukaiwen\n",
    "Data:2021/10/7\n",
    "'''"
   ]
  },
  {
   "cell_type": "code",
   "execution_count": 5,
   "metadata": {},
   "outputs": [
    {
     "name": "stdout",
     "output_type": "stream",
     "text": [
      "启发式求解:\n",
      "棋盘结果\n",
      "[[1. 0. 0. 0. 0. 0. 0. 0.]\n",
      " [0. 0. 0. 0. 1. 0. 0. 0.]\n",
      " [0. 0. 0. 0. 0. 0. 0. 1.]\n",
      " [0. 0. 0. 0. 0. 1. 0. 0.]\n",
      " [0. 0. 1. 0. 0. 0. 0. 0.]\n",
      " [0. 0. 0. 0. 0. 0. 1. 0.]\n",
      " [0. 1. 0. 0. 0. 0. 0. 0.]\n",
      " [0. 0. 0. 1. 0. 0. 0. 0.]]\n"
     ]
    }
   ],
   "source": [
    "import numpy as np\n",
    "import time\n",
    "class NQueens:\n",
    "    \n",
    "    def __init__(self,number):\n",
    "        #number为皇后的数量\n",
    "        self.number=number\n",
    "        self.board=np.zeros((number,number))\n",
    "        self.chess_puted = []\n",
    "        #将棋子下在(m,n)的代价\n",
    "        self.cost=(number*number)*np.ones((number,number))\n",
    "\n",
    "    #检查(m,n)是否可以放置皇后    \n",
    "    def check_chess(self, m, n):\n",
    "        if len(self.chess_puted)==0:\n",
    "            #棋盘为空则(m,n)处一定可以放置皇后\n",
    "            return True\n",
    "        else:\n",
    "            #棋盘非空，判定是否会相互攻击\n",
    "            coordinate = np.array([m, n])\n",
    "            for i in range(len(self.chess_puted)):\n",
    "                # 坐标之差\n",
    "                diff = coordinate-self.chess_puted[i]\n",
    "                # 在(m,n)放置皇后之后，是否会与已放置的皇后是否相互攻击\n",
    "                if diff[0] != diff[1] and diff[0] != -diff[1] and diff[0] != 0 and diff[1] != 0:\n",
    "                    continue\n",
    "                else:\n",
    "                #相互攻击则该位置不能放置\n",
    "                    return False\n",
    "        return True\n",
    "               \n",
    "    #计算代价\n",
    "    def cost_f(self,m,n):\n",
    "        cost=0\n",
    "        row,col=m,n\n",
    "        while row<self.number and col>-1:\n",
    "            row+=1\n",
    "            col-=1\n",
    "            cost+=1\n",
    "        row,col=m,n\n",
    "        while row<self.number and col<self.number:\n",
    "            row+=1\n",
    "            col-=1\n",
    "            cost+=1\n",
    "        return cost\n",
    "    \n",
    "    #启发式搜索\n",
    "    def dfs_cost(self, m):\n",
    "        for n in range(self.number):\n",
    "            if self.check_chess(m, n):\n",
    "                self.cost[m,n] =self.cost_f(m, n)\n",
    "        while self.cost.sum(axis=1)[m] != self.number**3:\n",
    "            n=np.argmin(self.cost, axis=1)[m]\n",
    "            self.board[m, n] = 1\n",
    "            self.chess_puted.append([m, n])\n",
    "            self.cost[m][n]=self.number*self.number\n",
    "            if m+1 == self.number:\n",
    "                print(\"启发式求解:\")\n",
    "                print(\"棋盘结果\")\n",
    "                print(self.board)\n",
    "                return \n",
    "            self.dfs_cost(m + 1)\n",
    "            self.board[m, n]=0\n",
    "            #self.cost[m][n]=self.number*self.number\n",
    "            self.chess_puted.remove([m, n])\n",
    "        return\n",
    "if __name__ == '__main__':\n",
    "    ans=NQueens(8)\n",
    "    #ans.dfs(0)\n",
    "    #ans.__init__(8)\n",
    "    ans.dfs_cost(0)\n",
    "\n",
    "\n"
   ]
  }
 ],
 "metadata": {
  "interpreter": {
   "hash": "49853067b32b74937494818da40291641da99711802eb2b60ce9f04c1224d2b9"
  },
  "kernelspec": {
   "display_name": "Python 3.8.2 64-bit",
   "name": "python3"
  },
  "language_info": {
   "codemirror_mode": {
    "name": "ipython",
    "version": 3
   },
   "file_extension": ".py",
   "mimetype": "text/x-python",
   "name": "python",
   "nbconvert_exporter": "python",
   "pygments_lexer": "ipython3",
   "version": "3.8.2"
  },
  "orig_nbformat": 4
 },
 "nbformat": 4,
 "nbformat_minor": 2
}
