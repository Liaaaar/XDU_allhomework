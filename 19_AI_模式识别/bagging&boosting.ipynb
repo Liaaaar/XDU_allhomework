{
 "cells": [
  {
   "cell_type": "code",
   "execution_count": 118,
   "metadata": {},
   "outputs": [],
   "source": [
    "#author:fkw\n",
    "#utf-8\n",
    "#creat time:2021/12/19 19：15\n",
    "#bagging:random forest&&boosting:Adaboost\n",
    "#dataset=iris\n",
    "from sklearn import datasets\n",
    "import matplotlib.pyplot as plt\n",
    "import numpy as np\n",
    "from sklearn.ensemble import RandomForestClassifier\n",
    "from sklearn.ensemble import AdaBoostClassifier\n",
    "from  sklearn.model_selection import GridSearchCV\n",
    "#load the dataset\n",
    "iris = datasets.load_iris()\n",
    "# 特征值\n",
    "diris = iris.data\n",
    "# 标签\n",
    "tiris = iris.target\n",
    "labels = ['setosa', 'versicolor', 'virginica']"
   ]
  },
  {
   "cell_type": "code",
   "execution_count": 99,
   "metadata": {},
   "outputs": [
    {
     "data": {
      "image/png": "[encoded data removed]",
      "text/plain": [
       "<Figure size 432x288 with 1 Axes>"
      ]
     },
     "metadata": {
      "needs_background": "light"
     },
     "output_type": "display_data"
    }
   ],
   "source": [
    "\"\"\"数据可视化\"\"\"\n",
    "# 数组归一化 x=(x-min)/(max-min)\n",
    "for i in range(4):\n",
    "    diris[:, i] = (diris[:, i]-np.min(diris[:, i]))/(np.max(diris[:, i])-np.min(diris[:, i]))\n",
    "#绘制dataset散点图,选取2,3列作为Xlable,ylabel\n",
    "x_axis=diris[:,1]\n",
    "y_axis=diris[:,2]\n",
    "plt.scatter(x_axis[tiris==0],y_axis[tiris==0],c='green',marker='.',linewidths=5)\n",
    "plt.scatter(x_axis[tiris==1],y_axis[tiris==1],c='red',marker='.',linewidths=5)\n",
    "plt.scatter(x_axis[tiris==2],y_axis[tiris==2],c='blue',marker='.',linewidths=5)\n",
    "plt.legend([\"setosa\",\"versicoloe\",\"virginica\"], loc ='upper right')\n",
    "plt.title(\"Real data distribution\")\n",
    "plt.xlabel('Sepal.Width')\n",
    "plt.ylabel('Petal.Length')\n",
    "plt.show()"
   ]
  },
  {
   "cell_type": "code",
   "execution_count": 186,
   "metadata": {},
   "outputs": [],
   "source": [
    "'''划分训练集和测试集'''\n",
    "# 样本总数\n",
    "num = diris.shape[0]\n",
    "# 划分数据集 train/test=7:3 \n",
    "ratio = 7/3 \n",
    "# 测试集样本数目\n",
    "num_test = int(num/(1+ratio))\n",
    "# 训练集样本数目 \n",
    "num_train = num-num_test \n",
    "# 产生样本标号并打乱\n",
    "index = np.arange(num)\n",
    "np.random.shuffle(index) \n",
    "#前30%做测试集\n",
    "diris_test = diris[index[:num_test],:]\n",
    "tiris_test = tiris[index[:num_test]]\n",
    "#剩余的做训练集\n",
    "diris_train = diris[index[num_test:],:]\n",
    "tiris_train = tiris[index[num_test:]]"
   ]
  },
  {
   "cell_type": "code",
   "execution_count": 159,
   "metadata": {},
   "outputs": [
    {
     "data": {
      "text/plain": [
       "({'max_depth': 5,\n",
       "  'max_features': 1,\n",
       "  'min_samples_leaf': 7,\n",
       "  'n_estimators': 50},\n",
       " 0.9721606824548001)"
      ]
     },
     "execution_count": 159,
     "metadata": {},
     "output_type": "execute_result"
    }
   ],
   "source": [
    "# RandomForest\n",
    "#调参\n",
    "clf = RandomForestClassifier()\n",
    "parameters = {'n_estimators': range(30,100,10),'max_depth':range(3,10,2),\n",
    "              'min_samples_leaf':[5,6,7],'max_features':[1,2,3]}\n",
    "grid_clf = GridSearchCV(clf,parameters,scoring='f1_macro')\n",
    "grid_clf.fit(diris_train, tiris_train)\n",
    "grid_clf.best_params_,grid_clf.best_score_"
   ]
  },
  {
   "cell_type": "code",
   "execution_count": 175,
   "metadata": {},
   "outputs": [
    {
     "name": "stdout",
     "output_type": "stream",
     "text": [
      "\n",
      "模型测试集准确率为： 0.9777777777777777\n"
     ]
    }
   ],
   "source": [
    "#train\n",
    "clf = RandomForestClassifier(max_depth=5,max_features=1,min_samples_leaf=7,n_estimators=50)\n",
    "# 训练模型\n",
    "clf.fit(diris_train, tiris_train)\n",
    "# 评价模型\n",
    "score = clf.score(diris_test, tiris_test)\n",
    "print(\"\\n模型测试集准确率为：\", score)\n"
   ]
  },
  {
   "cell_type": "code",
   "execution_count": 176,
   "metadata": {},
   "outputs": [
    {
     "data": {
      "text/plain": [
       "({'learning_rate': 2, 'n_estimators': 60}, 0.9531130634071812)"
      ]
     },
     "execution_count": 176,
     "metadata": {},
     "output_type": "execute_result"
    }
   ],
   "source": [
    "# AdaBoost\n",
    "#调参\n",
    "clf = AdaBoostClassifier()\n",
    "parameters = {'n_estimators': range(10,100,10),'learning_rate':range(1,3,1)}      \n",
    "grid_clf = GridSearchCV(clf,parameters,scoring='f1_macro')      \n",
    "grid_clf.fit(diris_train, tiris_train)\n",
    "grid_clf.best_params_,grid_clf.best_score_"
   ]
  },
  {
   "cell_type": "code",
   "execution_count": 191,
   "metadata": {},
   "outputs": [
    {
     "name": "stdout",
     "output_type": "stream",
     "text": [
      "\n",
      "模型测试集准确率为： 0.9555555555555556\n"
     ]
    }
   ],
   "source": [
    "#train\n",
    "clf = AdaBoostClassifier(learning_rate=2, n_estimators=60)\n",
    "# 训练模型\n",
    "clf.fit(diris_train, tiris_train)\n",
    "# 评价模型\n",
    "score = clf.score(diris_test, tiris_test)\n",
    "print(\"\\n模型测试集准确率为：\", score)\n"
   ]
  }
 ],
 "metadata": {
  "interpreter": {
   "hash": "49853067b32b74937494818da40291641da99711802eb2b60ce9f04c1224d2b9"
  },
  "kernelspec": {
   "display_name": "Python 3.8.2 64-bit",
   "language": "python",
   "name": "python3"
  },
  "language_info": {
   "codemirror_mode": {
    "name": "ipython",
    "version": 3
   },
   "file_extension": ".py",
   "mimetype": "text/x-python",
   "name": "python",
   "nbconvert_exporter": "python",
   "pygments_lexer": "ipython3",
   "version": "3.8.2"
  },
  "orig_nbformat": 4
 },
 "nbformat": 4,
 "nbformat_minor": 2
}
