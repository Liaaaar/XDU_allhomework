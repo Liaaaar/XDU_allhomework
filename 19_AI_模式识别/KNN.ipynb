{
 "cells": [
  {
   "cell_type": "code",
   "execution_count": 2,
   "metadata": {},
   "outputs": [
    {
     "name": "stdout",
     "output_type": "stream",
     "text": [
      "评估最合适的K值为：6 其准确率为：0.980\n"
     ]
    }
   ],
   "source": [
    "#选出最佳的K值\n",
    "from sklearn.model_selection import GridSearchCV\n",
    "from sklearn import datasets\n",
    "from sklearn.neighbors import KNeighborsClassifier\n",
    "\n",
    "iris = datasets.load_iris()\n",
    "X = iris['data']\n",
    "y = iris['target']\n",
    "parameter = {'n_neighbors':[1,2,3,4,5,6,7,8,9,10,11,12,13,14,15]}\n",
    "knn = KNeighborsClassifier()\n",
    "clf = GridSearchCV(knn,parameter,cv=5)\n",
    "clf.fit(X,y)\n",
    "print(f'评估最合适的K值为：{(clf.best_params_)[\"n_neighbors\"]}',\"其准确率为：%.3f\"%clf.best_score_)"
   ]
  },
  {
   "cell_type": "code",
   "execution_count": 6,
   "metadata": {},
   "outputs": [
    {
     "name": "stdout",
     "output_type": "stream",
     "text": [
      "花的实际种类为versicolor   花的预测种类为versicolor\n",
      "花的实际种类为virginica   花的预测种类为virginica\n",
      "花的实际种类为versicolor   花的预测种类为versicolor\n",
      "花的实际种类为versicolor   花的预测种类为versicolor\n",
      "花的实际种类为setosa   花的预测种类为setosa\n",
      "花的实际种类为setosa   花的预测种类为setosa\n",
      "花的实际种类为virginica   花的预测种类为virginica\n",
      "花的实际种类为virginica   花的预测种类为virginica\n",
      "花的实际种类为versicolor   花的预测种类为setosa\n",
      "花的实际种类为virginica   花的预测种类为virginica\n",
      "花的实际种类为versicolor   花的预测种类为versicolor\n",
      "花的实际种类为versicolor   花的预测种类为versicolor\n",
      "花的实际种类为setosa   花的预测种类为setosa\n",
      "花的实际种类为versicolor   花的预测种类为versicolor\n",
      "花的实际种类为virginica   花的预测种类为virginica\n",
      "花的实际种类为setosa   花的预测种类为setosa\n",
      "花的实际种类为setosa   花的预测种类为setosa\n",
      "花的实际种类为versicolor   花的预测种类为versicolor\n",
      "花的实际种类为setosa   花的预测种类为setosa\n",
      "花的实际种类为setosa   花的预测种类为setosa\n",
      "花的实际种类为setosa   花的预测种类为setosa\n",
      "花的实际种类为setosa   花的预测种类为setosa\n",
      "花的实际种类为versicolor   花的预测种类为versicolor\n",
      "花的实际种类为virginica   花的预测种类为virginica\n",
      "花的实际种类为versicolor   花的预测种类为versicolor\n",
      "花的实际种类为versicolor   花的预测种类为versicolor\n",
      "花的实际种类为versicolor   花的预测种类为versicolor\n",
      "花的实际种类为virginica   花的预测种类为virginica\n",
      "花的实际种类为versicolor   花的预测种类为versicolor\n",
      "花的实际种类为versicolor   花的预测种类为setosa\n",
      "花的实际种类为setosa   花的预测种类为setosa\n",
      "花的实际种类为versicolor   花的预测种类为versicolor\n",
      "花的实际种类为versicolor   花的预测种类为versicolor\n",
      "花的实际种类为setosa   花的预测种类为setosa\n",
      "花的实际种类为versicolor   花的预测种类为versicolor\n",
      "花的实际种类为setosa   花的预测种类为setosa\n",
      "花的实际种类为versicolor   花的预测种类为versicolor\n",
      "花的实际种类为setosa   花的预测种类为setosa\n",
      "花的实际种类为versicolor   花的预测种类为versicolor\n",
      "花的实际种类为versicolor   花的预测种类为versicolor\n",
      "花的实际种类为virginica   花的预测种类为virginica\n",
      "花的实际种类为versicolor   花的预测种类为versicolor\n",
      "花的实际种类为setosa   花的预测种类为setosa\n",
      "花的实际种类为virginica   花的预测种类为virginica\n",
      "花的实际种类为virginica   花的预测种类为virginica\n",
      "测试集准确率0.96\n"
     ]
    }
   ],
   "source": [
    "import numpy as np\n",
    "import matplotlib.pyplot as plt\n",
    "from sklearn import datasets\n",
    "# load 数据集\n",
    "iris = datasets.load_iris()\n",
    "# 特征值\n",
    "diris = iris.data\n",
    "# 标签\n",
    "tiris = iris.target\n",
    "labels = ['setosa', 'versicolor', 'virginica']\n",
    "# print(airis)\n",
    "'''\n",
    "k值会影响结果\n",
    "'''\n",
    "# 定义k值,k个最近的邻居\n",
    "k = 6\n",
    "# 数组归一化 x=(x-min)/(max-min)\n",
    "for i in range(4):\n",
    "    diris[:, i] = (diris[:, i]-np.min(diris[:, i]))/(np.max(diris[:, i])-np.min(diris[:, i]))\n",
    "# print(diris)\n",
    "\n",
    "# 随机选取105个样本做训练集，45个样本做测试集\n",
    "index = np.arange(150)\n",
    "np.random.shuffle(index)\n",
    "traindata, trainlabel = diris[index[:105]], tiris[index[:105]]\n",
    "testdata, testlabel = diris[index[105:]], tiris[index[105:]]\n",
    "# print(traindata,trainlabel)\n",
    "# print(testdata,testlabel)\n",
    "# result用来保存结果\n",
    "result = np.zeros(testlabel.shape[0])\n",
    "\n",
    "for n, l in enumerate(testdata):\n",
    "    m = np.square(traindata-l)\n",
    "    dis = np.sqrt(m.sum(axis=1))  # 计算欧氏距离\n",
    "    dis = np.c_[dis, trainlabel]\n",
    "    dis = dis[np.argsort(dis[:, 0])]  # 按照距离大小进行排序\n",
    "    a = [i[1] for i in dis[:k]]\n",
    "    result[n] = max(a, key=a.count)\n",
    "    print('花的实际种类为'+labels[int(testlabel[n]-1)] +\n",
    "          '   '+'花的预测种类为'+labels[int(result[n]-1)])\n",
    "print('测试集准确率%.2f' % (list(result-testlabel).count(0)/len(testlabel)))\n"
   ]
  }
 ],
 "metadata": {
  "interpreter": {
   "hash": "49853067b32b74937494818da40291641da99711802eb2b60ce9f04c1224d2b9"
  },
  "kernelspec": {
   "display_name": "Python 3.8.2 64-bit",
   "name": "python3"
  },
  "language_info": {
   "codemirror_mode": {
    "name": "ipython",
    "version": 3
   },
   "file_extension": ".py",
   "mimetype": "text/x-python",
   "name": "python",
   "nbconvert_exporter": "python",
   "pygments_lexer": "ipython3",
   "version": "3.8.2"
  },
  "orig_nbformat": 4
 },
 "nbformat": 4,
 "nbformat_minor": 2
}
